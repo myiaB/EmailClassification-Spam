{
 "cells": [
  {
   "cell_type": "markdown",
   "id": "5e94a18d",
   "metadata": {},
   "source": [
    "********************************************************************************************************************************\n",
    "Artificial Intelligence II \n",
    "Natural Language processing\n",
    "\n",
    "SPAM/HAM Email Classification\n",
    "\n",
    "Author : Myia Boyle <br>\n",
    "Date : April 2023 \n",
    "********************************************************************************************************************************\n",
    "Data Reference : https://www.kaggle.com/datasets/yashpaloswal/spamham-email-classification-nlp\n",
    "********************************************************************************************************************************"
   ]
  },
  {
   "cell_type": "markdown",
   "id": "aef2fbed",
   "metadata": {},
   "source": [
    "### Importing Data"
   ]
  },
  {
   "cell_type": "code",
   "execution_count": 1,
   "id": "75e8013d",
   "metadata": {},
   "outputs": [],
   "source": [
    "import pandas as pd \n",
    "import numpy as np "
   ]
  },
  {
   "cell_type": "code",
   "execution_count": 2,
   "id": "8bd3e6f4",
   "metadata": {},
   "outputs": [],
   "source": [
    "emailsDF = pd.read_csv('emails.csv')"
   ]
  },
  {
   "cell_type": "code",
   "execution_count": 3,
   "id": "8d9f1132",
   "metadata": {},
   "outputs": [
    {
     "data": {
      "text/html": [
       "<div>\n",
       "<style scoped>\n",
       "    .dataframe tbody tr th:only-of-type {\n",
       "        vertical-align: middle;\n",
       "    }\n",
       "\n",
       "    .dataframe tbody tr th {\n",
       "        vertical-align: top;\n",
       "    }\n",
       "\n",
       "    .dataframe thead th {\n",
       "        text-align: right;\n",
       "    }\n",
       "</style>\n",
       "<table border=\"1\" class=\"dataframe\">\n",
       "  <thead>\n",
       "    <tr style=\"text-align: right;\">\n",
       "      <th></th>\n",
       "      <th>Text</th>\n",
       "      <th>Spam</th>\n",
       "    </tr>\n",
       "  </thead>\n",
       "  <tbody>\n",
       "    <tr>\n",
       "      <th>0</th>\n",
       "      <td>Subject: naturally irresistible your corporate...</td>\n",
       "      <td>1</td>\n",
       "    </tr>\n",
       "    <tr>\n",
       "      <th>1</th>\n",
       "      <td>Subject: the stock trading gunslinger  fanny i...</td>\n",
       "      <td>1</td>\n",
       "    </tr>\n",
       "    <tr>\n",
       "      <th>2</th>\n",
       "      <td>Subject: unbelievable new homes made easy  im ...</td>\n",
       "      <td>1</td>\n",
       "    </tr>\n",
       "    <tr>\n",
       "      <th>3</th>\n",
       "      <td>Subject: 4 color printing special  request add...</td>\n",
       "      <td>1</td>\n",
       "    </tr>\n",
       "    <tr>\n",
       "      <th>4</th>\n",
       "      <td>Subject: do not have money , get software cds ...</td>\n",
       "      <td>1</td>\n",
       "    </tr>\n",
       "  </tbody>\n",
       "</table>\n",
       "</div>"
      ],
      "text/plain": [
       "                                                Text  Spam\n",
       "0  Subject: naturally irresistible your corporate...     1\n",
       "1  Subject: the stock trading gunslinger  fanny i...     1\n",
       "2  Subject: unbelievable new homes made easy  im ...     1\n",
       "3  Subject: 4 color printing special  request add...     1\n",
       "4  Subject: do not have money , get software cds ...     1"
      ]
     },
     "execution_count": 3,
     "metadata": {},
     "output_type": "execute_result"
    }
   ],
   "source": [
    "emailsDF.head()"
   ]
  },
  {
   "cell_type": "code",
   "execution_count": 4,
   "id": "43f389db",
   "metadata": {},
   "outputs": [
    {
     "name": "stdout",
     "output_type": "stream",
     "text": [
      "                                                   Text  Spam\n",
      "0     Subject: naturally irresistible your corporate...     1\n",
      "1     Subject: the stock trading gunslinger  fanny i...     1\n",
      "2     Subject: unbelievable new homes made easy  im ...     1\n",
      "3     Subject: 4 color printing special  request add...     1\n",
      "4     Subject: do not have money , get software cds ...     1\n",
      "...                                                 ...   ...\n",
      "5723  Subject: re : research and development charges...     0\n",
      "5724  Subject: re : receipts from visit  jim ,  than...     0\n",
      "5725  Subject: re : enron case study update  wow ! a...     0\n",
      "5726  Subject: re : interest  david ,  please , call...     0\n",
      "5727  Subject: news : aurora 5 . 2 update  aurora ve...     0\n",
      "\n",
      "[5728 rows x 2 columns]\n"
     ]
    }
   ],
   "source": [
    "print(emailsDF)"
   ]
  },
  {
   "cell_type": "markdown",
   "id": "06659854",
   "metadata": {},
   "source": [
    "### Converting to lowercase, Removing Punctuations and Special Charcters "
   ]
  },
  {
   "cell_type": "code",
   "execution_count": 5,
   "id": "1bf91d0d",
   "metadata": {},
   "outputs": [
    {
     "name": "stderr",
     "output_type": "stream",
     "text": [
      "<ipython-input-5-abb9b564dd85>:2: FutureWarning: The default value of regex will change from True to False in a future version.\n",
      "  emailsDF['Text'] = emailsDF['Text'].str.replace(r'[^\\w\\s]+', '')\n"
     ]
    },
    {
     "name": "stdout",
     "output_type": "stream",
     "text": [
      "                                                   Text  Spam\n",
      "0     subjectnaturallyirresistibleyourcorporateident...     1\n",
      "1     subjectthestocktradinggunslingerfannyismerrill...     1\n",
      "2     subjectunbelievablenewhomesmadeeasyimwantingto...     1\n",
      "3     subject4colorprintingspecialrequestadditionali...     1\n",
      "4     subjectdonothavemoneygetsoftwarecdsfromheresof...     1\n",
      "...                                                 ...   ...\n",
      "5723  subjectreresearchanddevelopmentchargestogpgher...     0\n",
      "5724  subjectrereceiptsfromvisitjimthanksagainforthe...     0\n",
      "5725  subjectreenroncasestudyupdatewowallonthesameda...     0\n",
      "5726  subjectreinterestdavidpleasecallshirleycrensha...     0\n",
      "5727  subjectnewsaurora52updateauroraversion52thefas...     0\n",
      "\n",
      "[5728 rows x 2 columns]\n"
     ]
    }
   ],
   "source": [
    "###www.kaggle.com\n",
    "emailsDF['Text'] = emailsDF['Text'].str.lower()\n",
    "emailsDF['Text'] = emailsDF['Text'].str.replace(r'[^\\w\\s]+', '')\n",
    "emailsDF['Text'] = emailsDF['Text'].str.replace('\\W', '', regex=True)\n",
    "\n",
    "print(emailsDF)"
   ]
  },
  {
   "cell_type": "markdown",
   "id": "d9e1f276",
   "metadata": {},
   "source": [
    "### Stopwords"
   ]
  },
  {
   "cell_type": "code",
   "execution_count": 6,
   "id": "75d35699",
   "metadata": {},
   "outputs": [],
   "source": [
    "import nltk"
   ]
  },
  {
   "cell_type": "code",
   "execution_count": 7,
   "id": "1c48e48b",
   "metadata": {},
   "outputs": [
    {
     "name": "stderr",
     "output_type": "stream",
     "text": [
      "[nltk_data] Downloading package punkt to\n",
      "[nltk_data]     C:\\Users\\myiab\\AppData\\Roaming\\nltk_data...\n",
      "[nltk_data]   Package punkt is already up-to-date!\n"
     ]
    },
    {
     "data": {
      "text/plain": [
       "True"
      ]
     },
     "execution_count": 7,
     "metadata": {},
     "output_type": "execute_result"
    }
   ],
   "source": [
    "nltk.download('punkt')"
   ]
  },
  {
   "cell_type": "code",
   "execution_count": 8,
   "id": "e6ee992e",
   "metadata": {},
   "outputs": [
    {
     "name": "stderr",
     "output_type": "stream",
     "text": [
      "[nltk_data] Downloading package stopwords to\n",
      "[nltk_data]     C:\\Users\\myiab\\AppData\\Roaming\\nltk_data...\n",
      "[nltk_data]   Package stopwords is already up-to-date!\n"
     ]
    },
    {
     "data": {
      "text/plain": [
       "True"
      ]
     },
     "execution_count": 8,
     "metadata": {},
     "output_type": "execute_result"
    }
   ],
   "source": [
    "nltk.download('stopwords')"
   ]
  },
  {
   "cell_type": "code",
   "execution_count": 9,
   "id": "5c193438",
   "metadata": {},
   "outputs": [],
   "source": [
    "from nltk.corpus import stopwords "
   ]
  },
  {
   "cell_type": "code",
   "execution_count": 10,
   "id": "80364ca0",
   "metadata": {},
   "outputs": [],
   "source": [
    "stop_words =set(stopwords.words('english'))"
   ]
  },
  {
   "cell_type": "code",
   "execution_count": 11,
   "id": "7cfe0c58",
   "metadata": {},
   "outputs": [],
   "source": [
    "emailsDF['Text']= emailsDF['Text'].apply(lambda x:' '.join([item for item in x.split() if item not in stop_words ]))"
   ]
  },
  {
   "cell_type": "code",
   "execution_count": 12,
   "id": "73ddfefb",
   "metadata": {},
   "outputs": [
    {
     "name": "stdout",
     "output_type": "stream",
     "text": [
      "                                                   Text  Spam\n",
      "0     subjectnaturallyirresistibleyourcorporateident...     1\n",
      "1     subjectthestocktradinggunslingerfannyismerrill...     1\n",
      "2     subjectunbelievablenewhomesmadeeasyimwantingto...     1\n",
      "3     subject4colorprintingspecialrequestadditionali...     1\n",
      "4     subjectdonothavemoneygetsoftwarecdsfromheresof...     1\n",
      "...                                                 ...   ...\n",
      "5723  subjectreresearchanddevelopmentchargestogpgher...     0\n",
      "5724  subjectrereceiptsfromvisitjimthanksagainforthe...     0\n",
      "5725  subjectreenroncasestudyupdatewowallonthesameda...     0\n",
      "5726  subjectreinterestdavidpleasecallshirleycrensha...     0\n",
      "5727  subjectnewsaurora52updateauroraversion52thefas...     0\n",
      "\n",
      "[5728 rows x 2 columns]\n"
     ]
    }
   ],
   "source": [
    "print(emailsDF)"
   ]
  },
  {
   "cell_type": "markdown",
   "id": "448fca33",
   "metadata": {},
   "source": [
    "### Tokenization of words \n"
   ]
  },
  {
   "cell_type": "code",
   "execution_count": 13,
   "id": "70383ca9",
   "metadata": {},
   "outputs": [
    {
     "data": {
      "text/plain": [
       "['subjectnaturallyirresistibleyourcorporateidentityltisreallyhardtorecollectacompanythemarketisfullofsuqgestionsandtheinformationisoverwhelminqbutagoodcatchylogostylishstatloneryandoutstandingwebsitewillmakethetaskmucheasierwedonotpromisethathavinqorderedaiogoyourcompanywillautomaticailybecomeaworldieaderitisguiteciearthatwithoutgoodproductseffectivebusinessorganizationandpracticableaimitwillbehotatnowadaysmarketbutwedopromisethatyourmarketingeffortswillbecomemuchmoreeffectivehereisthelistofclearbenefitscreativenesshandmadeoriginallogosspeciallydonetoreflectyourdistinctivecompanyimageconveniencelogoandstationeryareprovidedinallformatseasytousecontentmanagementsystemletsyouchangeyourwebsitecontentandevenitsstructurepromptnessyouwillseelogodraftswithinthreebusinessdaysaffordabilityyourmarketingbreakthroughshouldntmakegapsinyourbudget100satisfactionguaranteedweprovideunlimitedamountofchangeswithnoextrafeesforyoutobesurethatyouwilllovetheresultofthiscollaborationhavealookatourportfolio____________________________________________________notinterested____________________________________________________']"
      ]
     },
     "execution_count": 13,
     "metadata": {},
     "output_type": "execute_result"
    }
   ],
   "source": [
    "## Kaggle.com\n",
    "nltk.word_tokenize(emailsDF['Text'][0])"
   ]
  },
  {
   "cell_type": "markdown",
   "id": "67c9a056",
   "metadata": {},
   "source": [
    "### Stemming"
   ]
  },
  {
   "cell_type": "code",
   "execution_count": 37,
   "id": "8d3b5afc",
   "metadata": {},
   "outputs": [],
   "source": [
    "##www.Kaggle.com\n",
    "from nltk.stem import PorterStemmer \n",
    "stemmer = PorterStemmer()\n",
    "\n",
    "def stemming (text):\n",
    "    return ''.join([stemmer.stem(word)for word in text ])"
   ]
  },
  {
   "cell_type": "code",
   "execution_count": 15,
   "id": "14de7a6c",
   "metadata": {},
   "outputs": [
    {
     "data": {
      "text/html": [
       "<div>\n",
       "<style scoped>\n",
       "    .dataframe tbody tr th:only-of-type {\n",
       "        vertical-align: middle;\n",
       "    }\n",
       "\n",
       "    .dataframe tbody tr th {\n",
       "        vertical-align: top;\n",
       "    }\n",
       "\n",
       "    .dataframe thead th {\n",
       "        text-align: right;\n",
       "    }\n",
       "</style>\n",
       "<table border=\"1\" class=\"dataframe\">\n",
       "  <thead>\n",
       "    <tr style=\"text-align: right;\">\n",
       "      <th></th>\n",
       "      <th>Text</th>\n",
       "      <th>Spam</th>\n",
       "    </tr>\n",
       "  </thead>\n",
       "  <tbody>\n",
       "    <tr>\n",
       "      <th>0</th>\n",
       "      <td>subjectnaturallyirresistibleyourcorporateident...</td>\n",
       "      <td>1</td>\n",
       "    </tr>\n",
       "    <tr>\n",
       "      <th>1</th>\n",
       "      <td>subjectthestocktradinggunslingerfannyismerrill...</td>\n",
       "      <td>1</td>\n",
       "    </tr>\n",
       "    <tr>\n",
       "      <th>2</th>\n",
       "      <td>subjectunbelievablenewhomesmadeeasyimwantingto...</td>\n",
       "      <td>1</td>\n",
       "    </tr>\n",
       "    <tr>\n",
       "      <th>3</th>\n",
       "      <td>subject4colorprintingspecialrequestadditionali...</td>\n",
       "      <td>1</td>\n",
       "    </tr>\n",
       "    <tr>\n",
       "      <th>4</th>\n",
       "      <td>subjectdonothavemoneygetsoftwarecdsfromheresof...</td>\n",
       "      <td>1</td>\n",
       "    </tr>\n",
       "  </tbody>\n",
       "</table>\n",
       "</div>"
      ],
      "text/plain": [
       "                                                Text  Spam\n",
       "0  subjectnaturallyirresistibleyourcorporateident...     1\n",
       "1  subjectthestocktradinggunslingerfannyismerrill...     1\n",
       "2  subjectunbelievablenewhomesmadeeasyimwantingto...     1\n",
       "3  subject4colorprintingspecialrequestadditionali...     1\n",
       "4  subjectdonothavemoneygetsoftwarecdsfromheresof...     1"
      ]
     },
     "execution_count": 15,
     "metadata": {},
     "output_type": "execute_result"
    }
   ],
   "source": [
    "emailsDF['Text'] = emailsDF['Text'].apply(stemming)\n",
    "emailsDF.head()"
   ]
  },
  {
   "cell_type": "markdown",
   "id": "3763cfd7",
   "metadata": {},
   "source": [
    "### Converting to Machine Learnable form"
   ]
  },
  {
   "cell_type": "markdown",
   "id": "cb27ea0d",
   "metadata": {},
   "source": [
    "##### Bag Of Words Model"
   ]
  },
  {
   "cell_type": "code",
   "execution_count": 16,
   "id": "189aa6d2",
   "metadata": {},
   "outputs": [],
   "source": [
    "from sklearn.feature_extraction.text import CountVectorizer\n",
    "vectorizer = CountVectorizer()\n",
    "message_bow = vectorizer.fit_transform(emailsDF['Text'])"
   ]
  },
  {
   "cell_type": "code",
   "execution_count": 17,
   "id": "105c4048",
   "metadata": {},
   "outputs": [
    {
     "data": {
      "text/plain": [
       "array([[0, 0, 0, ..., 0, 0, 0],\n",
       "       [0, 0, 0, ..., 0, 0, 0],\n",
       "       [0, 0, 0, ..., 0, 0, 0],\n",
       "       ...,\n",
       "       [0, 0, 0, ..., 0, 0, 0],\n",
       "       [0, 0, 0, ..., 0, 0, 0],\n",
       "       [0, 0, 0, ..., 0, 0, 0]], dtype=int64)"
      ]
     },
     "execution_count": 17,
     "metadata": {},
     "output_type": "execute_result"
    }
   ],
   "source": [
    "message_bow.toarray()"
   ]
  },
  {
   "cell_type": "markdown",
   "id": "94c65573",
   "metadata": {},
   "source": [
    "##### TF-IDF"
   ]
  },
  {
   "cell_type": "code",
   "execution_count": 18,
   "id": "e9230047",
   "metadata": {},
   "outputs": [],
   "source": [
    "##datasciencelearner.com\n",
    "import sklearn"
   ]
  },
  {
   "cell_type": "code",
   "execution_count": 19,
   "id": "5dbf12b6",
   "metadata": {},
   "outputs": [],
   "source": [
    "from sklearn.feature_extraction.text import TfidfVectorizer"
   ]
  },
  {
   "cell_type": "code",
   "execution_count": 20,
   "id": "59b6e3c0",
   "metadata": {},
   "outputs": [
    {
     "name": "stdout",
     "output_type": "stream",
     "text": [
      "[[0. 0. 0. ... 0. 0. 0.]\n",
      " [0. 0. 0. ... 0. 0. 0.]\n",
      " [0. 0. 0. ... 0. 0. 0.]\n",
      " ...\n",
      " [0. 0. 0. ... 0. 0. 0.]\n",
      " [0. 0. 0. ... 0. 0. 0.]\n",
      " [0. 0. 0. ... 0. 0. 0.]]\n"
     ]
    }
   ],
   "source": [
    "v = TfidfVectorizer()\n",
    "x = v.fit_transform(emailsDF['Text'])\n",
    "print(x.toarray())"
   ]
  },
  {
   "cell_type": "markdown",
   "id": "da6e1faa",
   "metadata": {},
   "source": [
    "### Splitting the Data"
   ]
  },
  {
   "cell_type": "code",
   "execution_count": 21,
   "id": "c39990f3",
   "metadata": {},
   "outputs": [],
   "source": [
    "## Kaggle.com\n",
    "import sklearn"
   ]
  },
  {
   "cell_type": "code",
   "execution_count": 22,
   "id": "c8fc71d7",
   "metadata": {},
   "outputs": [],
   "source": [
    "from sklearn.model_selection import train_test_split\n",
    "XtrainDF,XtestDF,YtrainDF,YtestDF = train_test_split(message_bow,emailsDF['Spam'],test_size=0.30)"
   ]
  },
  {
   "cell_type": "code",
   "execution_count": 23,
   "id": "310f8aa9",
   "metadata": {},
   "outputs": [
    {
     "data": {
      "text/plain": [
       "(4009, 5504)"
      ]
     },
     "execution_count": 23,
     "metadata": {},
     "output_type": "execute_result"
    }
   ],
   "source": [
    "XtrainDF.shape"
   ]
  },
  {
   "cell_type": "code",
   "execution_count": 24,
   "id": "6ec6906c",
   "metadata": {},
   "outputs": [
    {
     "data": {
      "text/plain": [
       "(1719, 5504)"
      ]
     },
     "execution_count": 24,
     "metadata": {},
     "output_type": "execute_result"
    }
   ],
   "source": [
    "XtestDF.shape"
   ]
  },
  {
   "cell_type": "markdown",
   "id": "8c2c66eb",
   "metadata": {},
   "source": [
    "### Machine Learning Models and Accuracy"
   ]
  },
  {
   "cell_type": "markdown",
   "id": "45ddfcd8",
   "metadata": {},
   "source": [
    "##### NaiveBayesMultinomial Classifier"
   ]
  },
  {
   "cell_type": "code",
   "execution_count": 25,
   "id": "8c98636a",
   "metadata": {},
   "outputs": [
    {
     "data": {
      "text/plain": [
       "MultinomialNB()"
      ]
     },
     "execution_count": 25,
     "metadata": {},
     "output_type": "execute_result"
    }
   ],
   "source": [
    "from sklearn.naive_bayes import MultinomialNB\n",
    "nb= MultinomialNB()\n",
    "nb.fit(XtrainDF,YtrainDF)\n"
   ]
  },
  {
   "cell_type": "code",
   "execution_count": 26,
   "id": "1e08a5a5",
   "metadata": {},
   "outputs": [],
   "source": [
    "Ypred = nb.predict(XtestDF)"
   ]
  },
  {
   "cell_type": "code",
   "execution_count": 27,
   "id": "7666a24b",
   "metadata": {},
   "outputs": [
    {
     "name": "stdout",
     "output_type": "stream",
     "text": [
      "              precision    recall  f1-score   support\n",
      "\n",
      "           0       0.77      1.00      0.87      1318\n",
      "           1       0.00      0.00      0.00       401\n",
      "\n",
      "    accuracy                           0.77      1719\n",
      "   macro avg       0.38      0.50      0.43      1719\n",
      "weighted avg       0.59      0.77      0.67      1719\n",
      "\n"
     ]
    },
    {
     "name": "stderr",
     "output_type": "stream",
     "text": [
      "C:\\Users\\myiab\\anaconda3\\lib\\site-packages\\sklearn\\metrics\\_classification.py:1245: UndefinedMetricWarning: Precision and F-score are ill-defined and being set to 0.0 in labels with no predicted samples. Use `zero_division` parameter to control this behavior.\n",
      "  _warn_prf(average, modifier, msg_start, len(result))\n",
      "C:\\Users\\myiab\\anaconda3\\lib\\site-packages\\sklearn\\metrics\\_classification.py:1245: UndefinedMetricWarning: Precision and F-score are ill-defined and being set to 0.0 in labels with no predicted samples. Use `zero_division` parameter to control this behavior.\n",
      "  _warn_prf(average, modifier, msg_start, len(result))\n",
      "C:\\Users\\myiab\\anaconda3\\lib\\site-packages\\sklearn\\metrics\\_classification.py:1245: UndefinedMetricWarning: Precision and F-score are ill-defined and being set to 0.0 in labels with no predicted samples. Use `zero_division` parameter to control this behavior.\n",
      "  _warn_prf(average, modifier, msg_start, len(result))\n"
     ]
    }
   ],
   "source": [
    "###www.kaggle.com\n",
    "from sklearn.metrics import classification_report\n",
    "print(classification_report(YtestDF,Ypred))"
   ]
  },
  {
   "cell_type": "code",
   "execution_count": 28,
   "id": "91281f12",
   "metadata": {},
   "outputs": [
    {
     "data": {
      "text/plain": [
       "<sklearn.metrics._plot.roc_curve.RocCurveDisplay at 0x2c6f2a14df0>"
      ]
     },
     "execution_count": 28,
     "metadata": {},
     "output_type": "execute_result"
    },
    {
     "data": {
      "image/png": "[encoded data removed]",
      "text/plain": [
       "<Figure size 432x288 with 1 Axes>"
      ]
     },
     "metadata": {
      "needs_background": "light"
     },
     "output_type": "display_data"
    }
   ],
   "source": [
    "from sklearn.metrics import plot_roc_curve\n",
    "plot_roc_curve(nb,XtestDF,YtestDF)"
   ]
  },
  {
   "cell_type": "code",
   "execution_count": 29,
   "id": "a7569a7c",
   "metadata": {
    "scrolled": true
   },
   "outputs": [
    {
     "data": {
      "text/plain": [
       "<sklearn.metrics._plot.confusion_matrix.ConfusionMatrixDisplay at 0x2c6e44fc0d0>"
      ]
     },
     "execution_count": 29,
     "metadata": {},
     "output_type": "execute_result"
    },
    {
     "data": {
      "image/png": "[encoded data removed]",
      "text/plain": [
       "<Figure size 432x288 with 2 Axes>"
      ]
     },
     "metadata": {
      "needs_background": "light"
     },
     "output_type": "display_data"
    }
   ],
   "source": [
    "from sklearn.metrics import plot_confusion_matrix\n",
    "plot_confusion_matrix(nb,XtestDF,YtestDF)"
   ]
  },
  {
   "cell_type": "code",
   "execution_count": 30,
   "id": "c732ec35",
   "metadata": {},
   "outputs": [
    {
     "name": "stdout",
     "output_type": "stream",
     "text": [
      "NBG Accuracy using Cross Validation is : 76.11757622868988  %\n"
     ]
    }
   ],
   "source": [
    "from sklearn.model_selection import KFold, cross_val_score\n",
    "kfold = KFold(n_splits=5,shuffle=True)\n",
    "print(\"NBG Accuracy using Cross Validation is :\",np.mean(cross_val_score(nb,message_bow,emailsDF['Spam'],cv=kfold,scoring=\"accuracy\"))*100,\" %\")"
   ]
  },
  {
   "cell_type": "markdown",
   "id": "7eec1e15",
   "metadata": {},
   "source": [
    "##### SVM Classifier "
   ]
  },
  {
   "cell_type": "code",
   "execution_count": 31,
   "id": "7bec945c",
   "metadata": {},
   "outputs": [
    {
     "data": {
      "text/plain": [
       "SVC()"
      ]
     },
     "execution_count": 31,
     "metadata": {},
     "output_type": "execute_result"
    }
   ],
   "source": [
    "from sklearn.svm import SVC\n",
    "svm = SVC()\n",
    "svm.fit(XtrainDF, YtrainDF)"
   ]
  },
  {
   "cell_type": "code",
   "execution_count": 32,
   "id": "efc7f9db",
   "metadata": {},
   "outputs": [],
   "source": [
    "Ypred = svm.predict(XtestDF)"
   ]
  },
  {
   "cell_type": "code",
   "execution_count": 33,
   "id": "a5d98c44",
   "metadata": {},
   "outputs": [
    {
     "name": "stdout",
     "output_type": "stream",
     "text": [
      "              precision    recall  f1-score   support\n",
      "\n",
      "           0       0.77      1.00      0.87      1318\n",
      "           1       0.00      0.00      0.00       401\n",
      "\n",
      "    accuracy                           0.77      1719\n",
      "   macro avg       0.38      0.50      0.43      1719\n",
      "weighted avg       0.59      0.77      0.67      1719\n",
      "\n"
     ]
    },
    {
     "name": "stderr",
     "output_type": "stream",
     "text": [
      "C:\\Users\\myiab\\anaconda3\\lib\\site-packages\\sklearn\\metrics\\_classification.py:1245: UndefinedMetricWarning: Precision and F-score are ill-defined and being set to 0.0 in labels with no predicted samples. Use `zero_division` parameter to control this behavior.\n",
      "  _warn_prf(average, modifier, msg_start, len(result))\n",
      "C:\\Users\\myiab\\anaconda3\\lib\\site-packages\\sklearn\\metrics\\_classification.py:1245: UndefinedMetricWarning: Precision and F-score are ill-defined and being set to 0.0 in labels with no predicted samples. Use `zero_division` parameter to control this behavior.\n",
      "  _warn_prf(average, modifier, msg_start, len(result))\n",
      "C:\\Users\\myiab\\anaconda3\\lib\\site-packages\\sklearn\\metrics\\_classification.py:1245: UndefinedMetricWarning: Precision and F-score are ill-defined and being set to 0.0 in labels with no predicted samples. Use `zero_division` parameter to control this behavior.\n",
      "  _warn_prf(average, modifier, msg_start, len(result))\n"
     ]
    }
   ],
   "source": [
    "from sklearn.metrics import classification_report\n",
    "print(classification_report(YtestDF,Ypred))"
   ]
  },
  {
   "cell_type": "code",
   "execution_count": 34,
   "id": "ac30b8e1",
   "metadata": {},
   "outputs": [
    {
     "data": {
      "text/plain": [
       "<sklearn.metrics._plot.roc_curve.RocCurveDisplay at 0x2c6e4cd18b0>"
      ]
     },
     "execution_count": 34,
     "metadata": {},
     "output_type": "execute_result"
    },
    {
     "data": {
      "image/png": "[encoded data removed]",
      "text/plain": [
       "<Figure size 432x288 with 1 Axes>"
      ]
     },
     "metadata": {
      "needs_background": "light"
     },
     "output_type": "display_data"
    }
   ],
   "source": [
    "from sklearn.metrics import plot_roc_curve\n",
    "plot_roc_curve(svm,XtestDF,YtestDF)"
   ]
  },
  {
   "cell_type": "code",
   "execution_count": 35,
   "id": "89824a81",
   "metadata": {},
   "outputs": [
    {
     "data": {
      "text/plain": [
       "<sklearn.metrics._plot.confusion_matrix.ConfusionMatrixDisplay at 0x2c6e8c8f460>"
      ]
     },
     "execution_count": 35,
     "metadata": {},
     "output_type": "execute_result"
    },
    {
     "data": {
      "image/png": "[encoded data removed]",
      "text/plain": [
       "<Figure size 432x288 with 2 Axes>"
      ]
     },
     "metadata": {
      "needs_background": "light"
     },
     "output_type": "display_data"
    }
   ],
   "source": [
    "from sklearn.metrics import plot_confusion_matrix\n",
    "plot_confusion_matrix(svm,XtestDF,YtestDF)"
   ]
  },
  {
   "cell_type": "code",
   "execution_count": 36,
   "id": "137c56da",
   "metadata": {},
   "outputs": [
    {
     "name": "stdout",
     "output_type": "stream",
     "text": [
      "SVM Accuracy using Cross Validation is : 76.15249548457899  %\n"
     ]
    }
   ],
   "source": [
    "from sklearn.model_selection import KFold, cross_val_score\n",
    "kfold = KFold(n_splits=5,shuffle=True)\n",
    "print(\"SVM Accuracy using Cross Validation is :\",np.mean(cross_val_score(svm,message_bow,emailsDF['Spam'],cv=kfold,scoring=\"accuracy\"))*100,\" %\")"
   ]
  }
 ],
 "metadata": {
  "kernelspec": {
   "display_name": "Python 3",
   "language": "python",
   "name": "python3"
  },
  "language_info": {
   "codemirror_mode": {
    "name": "ipython",
    "version": 3
   },
   "file_extension": ".py",
   "mimetype": "text/x-python",
   "name": "python",
   "nbconvert_exporter": "python",
   "pygments_lexer": "ipython3",
   "version": "3.8.8"
  }
 },
 "nbformat": 4,
 "nbformat_minor": 5
}
